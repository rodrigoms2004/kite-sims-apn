{
 "cells": [
  {
   "cell_type": "markdown",
   "metadata": {},
   "source": [
    "# Kite\n",
    "SIMcards with and without APN"
   ]
  },
  {
   "cell_type": "code",
   "execution_count": 103,
   "metadata": {},
   "outputs": [],
   "source": [
    "import pandas as pd\n",
    "import numpy as np\n",
    "# Import datetime from the datetime module\n",
    "from datetime import datetime"
   ]
  },
  {
   "cell_type": "markdown",
   "metadata": {},
   "source": [
    "## Data"
   ]
  },
  {
   "cell_type": "markdown",
   "metadata": {},
   "source": [
    "### Transform data from Kite"
   ]
  },
  {
   "cell_type": "code",
   "execution_count": 27,
   "metadata": {},
   "outputs": [],
   "source": [
    "def getDataFromKite(csvFile):\n",
    "    df = pd.read_csv(csvFile, sep=';', low_memory=False)\n",
    "    df = df[['icc', 'imsi', 'msisdn',\n",
    "            'apn_apn1',\n",
    "            'apn_apn2',\n",
    "            'apn_apn3',\n",
    "            'apn_apn4',\n",
    "            'apn_apn5',\n",
    "            'apn_apn6',\n",
    "            'apn_apn7',\n",
    "            'apn_apn8',\n",
    "            'apn_apn9',\n",
    "            'apn_apn10']]\n",
    "    df = df.applymap(str) # change all columns to string type\n",
    "    df = df.applymap(lambda x: x.lstrip('=\"\"').rstrip('\"')) # remove unnecessary characteres\n",
    "    \n",
    "    return df"
   ]
  },
  {
   "cell_type": "code",
   "execution_count": 94,
   "metadata": {},
   "outputs": [],
   "source": [
    "# !ls data"
   ]
  },
  {
   "cell_type": "code",
   "execution_count": 29,
   "metadata": {},
   "outputs": [
    {
     "name": "stdout",
     "output_type": "stream",
     "text": [
      "CPU times: user 43.6 s, sys: 2.69 s, total: 46.3 s\n",
      "Wall time: 46.1 s\n"
     ]
    },
    {
     "data": {
      "text/plain": [
       "(1000000, 13)"
      ]
     },
     "execution_count": 29,
     "metadata": {},
     "output_type": "execute_result"
    }
   ],
   "source": [
    "%%time\n",
    "df = getDataFromKite('data/PAG02.csv')\n",
    "df.shape"
   ]
  },
  {
   "cell_type": "code",
   "execution_count": 96,
   "metadata": {},
   "outputs": [
    {
     "data": {
      "text/plain": [
       "['icc',\n",
       " 'imsi',\n",
       " 'msisdn',\n",
       " 'apn_apn1',\n",
       " 'apn_apn2',\n",
       " 'apn_apn3',\n",
       " 'apn_apn4',\n",
       " 'apn_apn5',\n",
       " 'apn_apn6',\n",
       " 'apn_apn7',\n",
       " 'apn_apn8',\n",
       " 'apn_apn9',\n",
       " 'apn_apn10']"
      ]
     },
     "execution_count": 96,
     "metadata": {},
     "output_type": "execute_result"
    }
   ],
   "source": [
    "list(df.columns)"
   ]
  },
  {
   "cell_type": "code",
   "execution_count": 95,
   "metadata": {},
   "outputs": [],
   "source": [
    "# df.head()"
   ]
  },
  {
   "cell_type": "markdown",
   "metadata": {},
   "source": [
    "### SIMs without any APN"
   ]
  },
  {
   "cell_type": "code",
   "execution_count": 64,
   "metadata": {},
   "outputs": [
    {
     "data": {
      "text/plain": [
       "(1171, 13)"
      ]
     },
     "execution_count": 64,
     "metadata": {},
     "output_type": "execute_result"
    }
   ],
   "source": [
    "df_no_apn = df[\n",
    "    (df['apn_apn1'] == 'nan') &\n",
    "    (df['apn_apn2'] == 'nan') &\n",
    "    (df['apn_apn3'] == 'nan') &\n",
    "    (df['apn_apn4'] == 'nan') &\n",
    "    (df['apn_apn5'] == 'nan') &\n",
    "    (df['apn_apn6'] == 'nan') &\n",
    "    (df['apn_apn7'] == 'nan') &\n",
    "    (df['apn_apn8'] == 'nan') &\n",
    "    (df['apn_apn9'] == 'nan') &\n",
    "    (df['apn_apn10'] == 'nan')\n",
    "  ].copy()\n",
    "\n",
    "df_no_apn.shape"
   ]
  },
  {
   "cell_type": "markdown",
   "metadata": {},
   "source": [
    "### SIMs with at least one APN"
   ]
  },
  {
   "cell_type": "markdown",
   "metadata": {},
   "source": [
    "https://stackoverflow.com/questions/44706485/how-to-remove-rows-in-a-pandas-dataframe-if-the-same-row-exists-in-another-dataf"
   ]
  },
  {
   "cell_type": "code",
   "execution_count": 92,
   "metadata": {},
   "outputs": [
    {
     "name": "stdout",
     "output_type": "stream",
     "text": [
      "CPU times: user 4.1 s, sys: 239 ms, total: 4.34 s\n",
      "Wall time: 3.77 s\n"
     ]
    },
    {
     "data": {
      "text/plain": [
       "(998829, 13)"
      ]
     },
     "execution_count": 92,
     "metadata": {},
     "output_type": "execute_result"
    }
   ],
   "source": [
    "%%time\n",
    "df_apn = pd.merge(df, df_no_apn, indicator=True, how='outer').query('_merge==\"left_only\"').drop('_merge', axis=1)\n",
    "df_apn.shape"
   ]
  },
  {
   "cell_type": "code",
   "execution_count": 98,
   "metadata": {},
   "outputs": [
    {
     "data": {
      "text/plain": [
       "True"
      ]
     },
     "execution_count": 98,
     "metadata": {},
     "output_type": "execute_result"
    }
   ],
   "source": [
    "# validation\n",
    "df_apn.shape[0] == df.shape[0] - df_no_apn.shape[0]"
   ]
  },
  {
   "cell_type": "markdown",
   "metadata": {},
   "source": [
    "## Output"
   ]
  },
  {
   "cell_type": "markdown",
   "metadata": {},
   "source": [
    "### Ooutput file"
   ]
  },
  {
   "cell_type": "code",
   "execution_count": 99,
   "metadata": {},
   "outputs": [],
   "source": [
    "def getCurrentDate():\n",
    "    local_dt = datetime.now()\n",
    "    return str(local_dt.year) +'.'+ str(local_dt.month) + '.' + str(local_dt.day) + '_' + str(local_dt.hour) + 'h' + str(local_dt.minute)"
   ]
  },
  {
   "cell_type": "code",
   "execution_count": 107,
   "metadata": {},
   "outputs": [],
   "source": [
    "# !mkdir data/result"
   ]
  },
  {
   "cell_type": "code",
   "execution_count": 108,
   "metadata": {},
   "outputs": [],
   "source": [
    "df_no_apn.to_csv('data/result/pagseguro_no_apn' + getCurrentDate() + '.csv')"
   ]
  },
  {
   "cell_type": "code",
   "execution_count": 109,
   "metadata": {},
   "outputs": [],
   "source": [
    "df_apn.to_csv('data/result/pagseguro_with_apn' + getCurrentDate() + '.csv')"
   ]
  },
  {
   "cell_type": "code",
   "execution_count": 110,
   "metadata": {},
   "outputs": [
    {
     "name": "stdout",
     "output_type": "stream",
     "text": [
      "pagseguro_no_apn2021.6.8_15h23.csv  pagseguro_with_apn2021.6.8_15h23.csv\r\n"
     ]
    }
   ],
   "source": [
    "!ls data/result"
   ]
  },
  {
   "cell_type": "code",
   "execution_count": null,
   "metadata": {},
   "outputs": [],
   "source": []
  }
 ],
 "metadata": {
  "kernelspec": {
   "display_name": "Python 3",
   "language": "python",
   "name": "python3"
  },
  "language_info": {
   "codemirror_mode": {
    "name": "ipython",
    "version": 3
   },
   "file_extension": ".py",
   "mimetype": "text/x-python",
   "name": "python",
   "nbconvert_exporter": "python",
   "pygments_lexer": "ipython3",
   "version": "3.7.4"
  }
 },
 "nbformat": 4,
 "nbformat_minor": 2
}
