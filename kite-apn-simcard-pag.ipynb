{
 "cells": [
  {
   "cell_type": "markdown",
   "metadata": {},
   "source": [
    "# Kite\n",
    "SIMcards with and without APN"
   ]
  },
  {
   "cell_type": "code",
   "execution_count": 1,
   "metadata": {},
   "outputs": [],
   "source": [
    "import pandas as pd\n",
    "import numpy as np\n",
    "# Import datetime from the datetime module\n",
    "from datetime import datetime, timedelta\n",
    "import matplotlib.pyplot as plt   \n",
    "import seaborn as sns"
   ]
  },
  {
   "cell_type": "code",
   "execution_count": 2,
   "metadata": {},
   "outputs": [
    {
     "data": {
      "text/html": [
       "<style>.container { width:98% !important; }</style>"
      ],
      "text/plain": [
       "<IPython.core.display.HTML object>"
      ]
     },
     "metadata": {},
     "output_type": "display_data"
    }
   ],
   "source": [
    "# Adjust pandas display and formatting settings\n",
    "\n",
    "# Remove scientific notations and display numbers with 2 decimal points instead\n",
    "pd.options.display.float_format = '{:,.2f}'.format        \n",
    "\n",
    "# Increase cell width\n",
    "from IPython.core.display import display, HTML\n",
    "display(HTML(\"<style>.container { width:98% !important; }</style>\"))\n",
    "\n",
    "# Update default style and size of charts\n",
    "plt.style.use('ggplot')\n",
    "plt.rcParams['figure.figsize'] = [10, 5]"
   ]
  },
  {
   "cell_type": "markdown",
   "metadata": {},
   "source": [
    "## Data"
   ]
  },
  {
   "cell_type": "markdown",
   "metadata": {},
   "source": [
    "### Transform data from Kite"
   ]
  },
  {
   "cell_type": "code",
   "execution_count": 3,
   "metadata": {},
   "outputs": [],
   "source": [
    "def getDataFromKite(csvFile):\n",
    "    df = pd.read_csv(csvFile, sep=';', low_memory=False)\n",
    "    df = df[['icc', 'imsi', 'msisdn', 'lifeCycleStatus','currentApn', 'currentIp',\n",
    "             'gprsStatus_lastConnStart', 'gprsStatus_lastConnStop',\n",
    "            'apn_apn1',\n",
    "            'apn_apn2',\n",
    "            'apn_apn3',\n",
    "            'apn_apn4',\n",
    "            'apn_apn5',\n",
    "            'apn_apn6',\n",
    "            'apn_apn7',\n",
    "            'apn_apn8',\n",
    "            'apn_apn9',\n",
    "            'apn_apn10'\n",
    "        ]]\n",
    "    df = df.applymap(str) # change all columns to string type\n",
    "    df = df.applymap(lambda x: x.lstrip('=\"\"').rstrip('\"')) # remove unnecessary characteres\n",
    "    \n",
    "    return df"
   ]
  },
  {
   "cell_type": "code",
   "execution_count": 4,
   "metadata": {},
   "outputs": [],
   "source": [
    "# dftest = getDataFromKite('data/example.csv')\n",
    "# list(dftest.columns)"
   ]
  },
  {
   "cell_type": "code",
   "execution_count": 5,
   "metadata": {},
   "outputs": [
    {
     "name": "stdout",
     "output_type": "stream",
     "text": [
      "CPU times: user 46.1 s, sys: 2.87 s, total: 49 s\n",
      "Wall time: 53.8 s\n"
     ]
    },
    {
     "data": {
      "text/plain": [
       "(1000000, 18)"
      ]
     },
     "execution_count": 5,
     "metadata": {},
     "output_type": "execute_result"
    }
   ],
   "source": [
    "%%time\n",
    "df1 = getDataFromKite('data/SimInventoryExport_2021-06-08T12.41.22Z_1bxwtmd-23jsalj1j9a-60bf65720c06.0.csv')\n",
    "df1.shape"
   ]
  },
  {
   "cell_type": "code",
   "execution_count": 6,
   "metadata": {},
   "outputs": [
    {
     "name": "stdout",
     "output_type": "stream",
     "text": [
      "CPU times: user 38.2 s, sys: 2.36 s, total: 40.6 s\n",
      "Wall time: 44.3 s\n"
     ]
    },
    {
     "data": {
      "text/plain": [
       "(899222, 18)"
      ]
     },
     "execution_count": 6,
     "metadata": {},
     "output_type": "execute_result"
    }
   ],
   "source": [
    "%%time\n",
    "df2 = getDataFromKite('data/SimInventoryExport_2021-06-08T12.41.22Z_1bxwtmd-23jsalj1j9a-60bf65720c06.1.csv')\n",
    "df2.shape"
   ]
  },
  {
   "cell_type": "markdown",
   "metadata": {},
   "source": [
    "### Concat dataframes"
   ]
  },
  {
   "cell_type": "code",
   "execution_count": 7,
   "metadata": {},
   "outputs": [
    {
     "data": {
      "text/plain": [
       "(1899222, 18)"
      ]
     },
     "execution_count": 7,
     "metadata": {},
     "output_type": "execute_result"
    }
   ],
   "source": [
    "df = pd.concat([df1, df2])\n",
    "df.shape"
   ]
  },
  {
   "cell_type": "code",
   "execution_count": 8,
   "metadata": {},
   "outputs": [
    {
     "data": {
      "text/plain": [
       "True"
      ]
     },
     "execution_count": 8,
     "metadata": {},
     "output_type": "execute_result"
    }
   ],
   "source": [
    "df.shape[0] == df1.shape[0] + df2.shape[0]"
   ]
  },
  {
   "cell_type": "markdown",
   "metadata": {},
   "source": [
    "### Unique values"
   ]
  },
  {
   "cell_type": "code",
   "execution_count": 9,
   "metadata": {},
   "outputs": [
    {
     "data": {
      "text/plain": [
       "['ACTIVATED', 'SUSPENDED', 'DEACTIVATED', 'INACTIVE_NEW', 'ACTIVATION_PENDANT']"
      ]
     },
     "execution_count": 9,
     "metadata": {},
     "output_type": "execute_result"
    }
   ],
   "source": [
    "list(df['lifeCycleStatus'].unique())"
   ]
  },
  {
   "cell_type": "code",
   "execution_count": 10,
   "metadata": {},
   "outputs": [
    {
     "data": {
      "text/html": [
       "<div>\n",
       "<style scoped>\n",
       "    .dataframe tbody tr th:only-of-type {\n",
       "        vertical-align: middle;\n",
       "    }\n",
       "\n",
       "    .dataframe tbody tr th {\n",
       "        vertical-align: top;\n",
       "    }\n",
       "\n",
       "    .dataframe thead th {\n",
       "        text-align: right;\n",
       "    }\n",
       "</style>\n",
       "<table border=\"1\" class=\"dataframe\">\n",
       "  <thead>\n",
       "    <tr style=\"text-align: right;\">\n",
       "      <th></th>\n",
       "      <th>lifeCycleStatus</th>\n",
       "    </tr>\n",
       "  </thead>\n",
       "  <tbody>\n",
       "    <tr>\n",
       "      <th>ACTIVATED</th>\n",
       "      <td>1261194</td>\n",
       "    </tr>\n",
       "    <tr>\n",
       "      <th>SUSPENDED</th>\n",
       "      <td>601069</td>\n",
       "    </tr>\n",
       "    <tr>\n",
       "      <th>INACTIVE_NEW</th>\n",
       "      <td>36889</td>\n",
       "    </tr>\n",
       "    <tr>\n",
       "      <th>ACTIVATION_PENDANT</th>\n",
       "      <td>64</td>\n",
       "    </tr>\n",
       "    <tr>\n",
       "      <th>DEACTIVATED</th>\n",
       "      <td>6</td>\n",
       "    </tr>\n",
       "  </tbody>\n",
       "</table>\n",
       "</div>"
      ],
      "text/plain": [
       "                    lifeCycleStatus\n",
       "ACTIVATED                   1261194\n",
       "SUSPENDED                    601069\n",
       "INACTIVE_NEW                  36889\n",
       "ACTIVATION_PENDANT               64\n",
       "DEACTIVATED                       6"
      ]
     },
     "execution_count": 10,
     "metadata": {},
     "output_type": "execute_result"
    }
   ],
   "source": [
    "pd.DataFrame(df['lifeCycleStatus'].value_counts())"
   ]
  },
  {
   "cell_type": "code",
   "execution_count": 11,
   "metadata": {},
   "outputs": [
    {
     "data": {
      "text/plain": [
       "['nan',\n",
       " 'pagseguro.m2m.vivo.com.br',\n",
       " 'apnsmart.pagseguro.uol',\n",
       " 'smart.m2m.vivo.com.br',\n",
       " 'apn.pagseguro.uol.m2m.com.br']"
      ]
     },
     "execution_count": 11,
     "metadata": {},
     "output_type": "execute_result"
    }
   ],
   "source": [
    "list(df['currentApn'].unique())"
   ]
  },
  {
   "cell_type": "code",
   "execution_count": 12,
   "metadata": {},
   "outputs": [
    {
     "data": {
      "text/html": [
       "<div>\n",
       "<style scoped>\n",
       "    .dataframe tbody tr th:only-of-type {\n",
       "        vertical-align: middle;\n",
       "    }\n",
       "\n",
       "    .dataframe tbody tr th {\n",
       "        vertical-align: top;\n",
       "    }\n",
       "\n",
       "    .dataframe thead th {\n",
       "        text-align: right;\n",
       "    }\n",
       "</style>\n",
       "<table border=\"1\" class=\"dataframe\">\n",
       "  <thead>\n",
       "    <tr style=\"text-align: right;\">\n",
       "      <th></th>\n",
       "      <th>currentApn</th>\n",
       "    </tr>\n",
       "  </thead>\n",
       "  <tbody>\n",
       "    <tr>\n",
       "      <th>nan</th>\n",
       "      <td>1728875</td>\n",
       "    </tr>\n",
       "    <tr>\n",
       "      <th>pagseguro.m2m.vivo.com.br</th>\n",
       "      <td>157005</td>\n",
       "    </tr>\n",
       "    <tr>\n",
       "      <th>apnsmart.pagseguro.uol</th>\n",
       "      <td>11192</td>\n",
       "    </tr>\n",
       "    <tr>\n",
       "      <th>smart.m2m.vivo.com.br</th>\n",
       "      <td>1309</td>\n",
       "    </tr>\n",
       "    <tr>\n",
       "      <th>apn.pagseguro.uol.m2m.com.br</th>\n",
       "      <td>841</td>\n",
       "    </tr>\n",
       "  </tbody>\n",
       "</table>\n",
       "</div>"
      ],
      "text/plain": [
       "                              currentApn\n",
       "nan                              1728875\n",
       "pagseguro.m2m.vivo.com.br         157005\n",
       "apnsmart.pagseguro.uol             11192\n",
       "smart.m2m.vivo.com.br               1309\n",
       "apn.pagseguro.uol.m2m.com.br         841"
      ]
     },
     "execution_count": 12,
     "metadata": {},
     "output_type": "execute_result"
    }
   ],
   "source": [
    "pd.DataFrame(df['currentApn'].value_counts())"
   ]
  },
  {
   "cell_type": "markdown",
   "metadata": {},
   "source": [
    "### Time"
   ]
  },
  {
   "cell_type": "code",
   "execution_count": 13,
   "metadata": {},
   "outputs": [],
   "source": [
    "def convertTime(date_str):\n",
    "    if date_str == 'nan':\n",
    "        return datetime.now()\n",
    "    date_format = \"%Y-%m-%dT%H:%M:%S.%fZ\"\n",
    "    dt = datetime.strptime(date_str, date_format)\n",
    "    return dt"
   ]
  },
  {
   "cell_type": "code",
   "execution_count": 14,
   "metadata": {
    "scrolled": true
   },
   "outputs": [],
   "source": [
    "# str1 = '2020-03-13T14:31:33.000Z'\n",
    "# str2 = '2020-03-13T16:00:09.000Z'\n",
    "# dt1 = convertTime(str1)\n",
    "# dt2 = convertTime(str2)\n",
    "# dtr = (dt2 - dt1) \n",
    "# dtr.seconds, dt1"
   ]
  },
  {
   "cell_type": "code",
   "execution_count": 15,
   "metadata": {},
   "outputs": [
    {
     "name": "stdout",
     "output_type": "stream",
     "text": [
      "CPU times: user 1min 2s, sys: 310 ms, total: 1min 2s\n",
      "Wall time: 1min 2s\n"
     ]
    }
   ],
   "source": [
    "%%time\n",
    "df['connStart'] = (df['gprsStatus_lastConnStart']).apply(lambda x: convertTime(x))\n",
    "df['connStop'] = (df['gprsStatus_lastConnStop']).apply(lambda x: convertTime(x))\n",
    "df['session_time_seconds'] = (df['connStop'] - df['connStart']).apply(lambda x: x / np.timedelta64(1, 's'))"
   ]
  },
  {
   "cell_type": "code",
   "execution_count": 16,
   "metadata": {},
   "outputs": [],
   "source": [
    "df.drop(['gprsStatus_lastConnStart', 'gprsStatus_lastConnStop'], axis=1, inplace=True)"
   ]
  },
  {
   "cell_type": "code",
   "execution_count": 17,
   "metadata": {},
   "outputs": [
    {
     "data": {
      "text/plain": [
       "Index(['icc', 'imsi', 'msisdn', 'lifeCycleStatus', 'currentApn', 'currentIp',\n",
       "       'apn_apn1', 'apn_apn2', 'apn_apn3', 'apn_apn4', 'apn_apn5', 'apn_apn6',\n",
       "       'apn_apn7', 'apn_apn8', 'apn_apn9', 'apn_apn10', 'connStart',\n",
       "       'connStop', 'session_time_seconds'],\n",
       "      dtype='object')"
      ]
     },
     "execution_count": 17,
     "metadata": {},
     "output_type": "execute_result"
    }
   ],
   "source": [
    "df.columns"
   ]
  },
  {
   "cell_type": "code",
   "execution_count": 18,
   "metadata": {},
   "outputs": [],
   "source": [
    "df = df[['icc', 'imsi', 'msisdn', 'lifeCycleStatus', 'currentApn', 'currentIp',\n",
    "         'connStart', 'connStop', 'session_time_seconds',\n",
    "         'apn_apn1','apn_apn2', 'apn_apn3', 'apn_apn4', 'apn_apn5', \n",
    "         'apn_apn6','apn_apn7', 'apn_apn8', 'apn_apn9', 'apn_apn10']]"
   ]
  },
  {
   "cell_type": "code",
   "execution_count": 19,
   "metadata": {},
   "outputs": [
    {
     "data": {
      "text/html": [
       "<div>\n",
       "<style scoped>\n",
       "    .dataframe tbody tr th:only-of-type {\n",
       "        vertical-align: middle;\n",
       "    }\n",
       "\n",
       "    .dataframe tbody tr th {\n",
       "        vertical-align: top;\n",
       "    }\n",
       "\n",
       "    .dataframe thead th {\n",
       "        text-align: right;\n",
       "    }\n",
       "</style>\n",
       "<table border=\"1\" class=\"dataframe\">\n",
       "  <thead>\n",
       "    <tr style=\"text-align: right;\">\n",
       "      <th></th>\n",
       "      <th>count</th>\n",
       "      <th>mean</th>\n",
       "      <th>std</th>\n",
       "      <th>min</th>\n",
       "      <th>25%</th>\n",
       "      <th>50%</th>\n",
       "      <th>75%</th>\n",
       "      <th>max</th>\n",
       "    </tr>\n",
       "  </thead>\n",
       "  <tbody>\n",
       "    <tr>\n",
       "      <th>session_time_seconds</th>\n",
       "      <td>1,899,222.00</td>\n",
       "      <td>8,321.35</td>\n",
       "      <td>372,037.40</td>\n",
       "      <td>-72,049,352.29</td>\n",
       "      <td>16.98</td>\n",
       "      <td>665.00</td>\n",
       "      <td>5,357.00</td>\n",
       "      <td>55,293,234.68</td>\n",
       "    </tr>\n",
       "  </tbody>\n",
       "</table>\n",
       "</div>"
      ],
      "text/plain": [
       "                            count     mean        std            min   25%  \\\n",
       "session_time_seconds 1,899,222.00 8,321.35 372,037.40 -72,049,352.29 16.98   \n",
       "\n",
       "                        50%      75%           max  \n",
       "session_time_seconds 665.00 5,357.00 55,293,234.68  "
      ]
     },
     "execution_count": 19,
     "metadata": {},
     "output_type": "execute_result"
    }
   ],
   "source": [
    "df.describe().T"
   ]
  },
  {
   "cell_type": "code",
   "execution_count": 20,
   "metadata": {},
   "outputs": [],
   "source": [
    "# df.head()"
   ]
  },
  {
   "cell_type": "markdown",
   "metadata": {},
   "source": [
    "### SIMs connected and blocked!"
   ]
  },
  {
   "cell_type": "code",
   "execution_count": 21,
   "metadata": {},
   "outputs": [
    {
     "data": {
      "text/plain": [
       "(2274, 19)"
      ]
     },
     "execution_count": 21,
     "metadata": {},
     "output_type": "execute_result"
    }
   ],
   "source": [
    "df_notActivated_connected = df[\n",
    "    (df['lifeCycleStatus'] != 'ACTIVATED') &\n",
    "    (df['currentApn'] != 'nan') \n",
    "]\n",
    "df_notActivated_connected.shape"
   ]
  },
  {
   "cell_type": "code",
   "execution_count": 22,
   "metadata": {},
   "outputs": [
    {
     "data": {
      "text/html": [
       "<div>\n",
       "<style scoped>\n",
       "    .dataframe tbody tr th:only-of-type {\n",
       "        vertical-align: middle;\n",
       "    }\n",
       "\n",
       "    .dataframe tbody tr th {\n",
       "        vertical-align: top;\n",
       "    }\n",
       "\n",
       "    .dataframe thead th {\n",
       "        text-align: right;\n",
       "    }\n",
       "</style>\n",
       "<table border=\"1\" class=\"dataframe\">\n",
       "  <thead>\n",
       "    <tr style=\"text-align: right;\">\n",
       "      <th></th>\n",
       "      <th>lifeCycleStatus</th>\n",
       "    </tr>\n",
       "  </thead>\n",
       "  <tbody>\n",
       "    <tr>\n",
       "      <th>SUSPENDED</th>\n",
       "      <td>2274</td>\n",
       "    </tr>\n",
       "  </tbody>\n",
       "</table>\n",
       "</div>"
      ],
      "text/plain": [
       "           lifeCycleStatus\n",
       "SUSPENDED             2274"
      ]
     },
     "execution_count": 22,
     "metadata": {},
     "output_type": "execute_result"
    }
   ],
   "source": [
    "pd.DataFrame(df_notActivated_connected['lifeCycleStatus'].value_counts())"
   ]
  },
  {
   "cell_type": "code",
   "execution_count": 23,
   "metadata": {},
   "outputs": [],
   "source": [
    "# df_notActivated_connected.head()"
   ]
  },
  {
   "cell_type": "markdown",
   "metadata": {},
   "source": [
    "### SIMs without any APN"
   ]
  },
  {
   "cell_type": "code",
   "execution_count": 40,
   "metadata": {},
   "outputs": [
    {
     "data": {
      "text/plain": [
       "(39404, 19)"
      ]
     },
     "execution_count": 40,
     "metadata": {},
     "output_type": "execute_result"
    }
   ],
   "source": [
    "df_no_apn = df[\n",
    "    (df['apn_apn1'] == 'nan') &\n",
    "    (df['apn_apn2'] == 'nan') &\n",
    "    (df['apn_apn3'] == 'nan') &\n",
    "    (df['apn_apn4'] == 'nan') &\n",
    "    (df['apn_apn5'] == 'nan') &\n",
    "    (df['apn_apn6'] == 'nan') &\n",
    "    (df['apn_apn7'] == 'nan') &\n",
    "    (df['apn_apn8'] == 'nan') &\n",
    "    (df['apn_apn9'] == 'nan') &\n",
    "    (df['apn_apn10'] == 'nan')\n",
    "  ].copy()\n",
    "\n",
    "df_no_apn.shape"
   ]
  },
  {
   "cell_type": "code",
   "execution_count": 48,
   "metadata": {},
   "outputs": [],
   "source": [
    "# df_no_apn.head()"
   ]
  },
  {
   "cell_type": "code",
   "execution_count": 47,
   "metadata": {},
   "outputs": [
    {
     "data": {
      "text/html": [
       "<div>\n",
       "<style scoped>\n",
       "    .dataframe tbody tr th:only-of-type {\n",
       "        vertical-align: middle;\n",
       "    }\n",
       "\n",
       "    .dataframe tbody tr th {\n",
       "        vertical-align: top;\n",
       "    }\n",
       "\n",
       "    .dataframe thead th {\n",
       "        text-align: right;\n",
       "    }\n",
       "</style>\n",
       "<table border=\"1\" class=\"dataframe\">\n",
       "  <thead>\n",
       "    <tr style=\"text-align: right;\">\n",
       "      <th></th>\n",
       "      <th>currentApn</th>\n",
       "    </tr>\n",
       "  </thead>\n",
       "  <tbody>\n",
       "    <tr>\n",
       "      <th>nan</th>\n",
       "      <td>39404</td>\n",
       "    </tr>\n",
       "  </tbody>\n",
       "</table>\n",
       "</div>"
      ],
      "text/plain": [
       "     currentApn\n",
       "nan       39404"
      ]
     },
     "execution_count": 47,
     "metadata": {},
     "output_type": "execute_result"
    }
   ],
   "source": [
    "pd.DataFrame(df_no_apn['currentApn'].value_counts())"
   ]
  },
  {
   "cell_type": "code",
   "execution_count": 37,
   "metadata": {},
   "outputs": [
    {
     "data": {
      "text/html": [
       "<div>\n",
       "<style scoped>\n",
       "    .dataframe tbody tr th:only-of-type {\n",
       "        vertical-align: middle;\n",
       "    }\n",
       "\n",
       "    .dataframe tbody tr th {\n",
       "        vertical-align: top;\n",
       "    }\n",
       "\n",
       "    .dataframe thead th {\n",
       "        text-align: right;\n",
       "    }\n",
       "</style>\n",
       "<table border=\"1\" class=\"dataframe\">\n",
       "  <thead>\n",
       "    <tr style=\"text-align: right;\">\n",
       "      <th></th>\n",
       "      <th>icc</th>\n",
       "      <th>imsi</th>\n",
       "      <th>msisdn</th>\n",
       "      <th>lifeCycleStatus</th>\n",
       "      <th>currentApn</th>\n",
       "      <th>currentIp</th>\n",
       "      <th>connStart</th>\n",
       "      <th>connStop</th>\n",
       "      <th>session_time_seconds</th>\n",
       "      <th>apn_apn1</th>\n",
       "      <th>apn_apn2</th>\n",
       "      <th>apn_apn3</th>\n",
       "      <th>apn_apn4</th>\n",
       "      <th>apn_apn5</th>\n",
       "      <th>apn_apn6</th>\n",
       "      <th>apn_apn7</th>\n",
       "      <th>apn_apn8</th>\n",
       "      <th>apn_apn9</th>\n",
       "      <th>apn_apn10</th>\n",
       "    </tr>\n",
       "  </thead>\n",
       "  <tbody>\n",
       "    <tr>\n",
       "      <th>20</th>\n",
       "      <td>89551080337004409400</td>\n",
       "      <td>724108002436232</td>\n",
       "      <td>5511973875339</td>\n",
       "      <td>SUSPENDED</td>\n",
       "      <td>pagseguro.m2m.vivo.com.br</td>\n",
       "      <td>10.169.181.203</td>\n",
       "      <td>2020-06-03 04:16:38</td>\n",
       "      <td>2020-06-01 22:51:45</td>\n",
       "      <td>-105,893.00</td>\n",
       "      <td>apn.pagseguro.uol</td>\n",
       "      <td>pagseguro.vivo.com.br</td>\n",
       "      <td>nan</td>\n",
       "      <td>nan</td>\n",
       "      <td>nan</td>\n",
       "      <td>nan</td>\n",
       "      <td>nan</td>\n",
       "      <td>nan</td>\n",
       "      <td>nan</td>\n",
       "      <td>nan</td>\n",
       "    </tr>\n",
       "    <tr>\n",
       "      <th>51</th>\n",
       "      <td>89551080337004479916</td>\n",
       "      <td>724108002443283</td>\n",
       "      <td>5511975396145</td>\n",
       "      <td>ACTIVATED</td>\n",
       "      <td>pagseguro.m2m.vivo.com.br</td>\n",
       "      <td>10.170.177.67</td>\n",
       "      <td>2021-06-07 01:27:00</td>\n",
       "      <td>2021-06-07 01:26:37</td>\n",
       "      <td>-23.00</td>\n",
       "      <td>apn.pagseguro.uol</td>\n",
       "      <td>pagseguro.vivo.com.br</td>\n",
       "      <td>nan</td>\n",
       "      <td>nan</td>\n",
       "      <td>nan</td>\n",
       "      <td>nan</td>\n",
       "      <td>nan</td>\n",
       "      <td>nan</td>\n",
       "      <td>nan</td>\n",
       "      <td>nan</td>\n",
       "    </tr>\n",
       "    <tr>\n",
       "      <th>60</th>\n",
       "      <td>89551080337004406893</td>\n",
       "      <td>724108002435981</td>\n",
       "      <td>5511942393174</td>\n",
       "      <td>ACTIVATED</td>\n",
       "      <td>pagseguro.m2m.vivo.com.br</td>\n",
       "      <td>10.168.193.162</td>\n",
       "      <td>2021-06-04 15:30:51</td>\n",
       "      <td>2021-06-04 15:29:53</td>\n",
       "      <td>-58.00</td>\n",
       "      <td>apn.pagseguro.uol</td>\n",
       "      <td>pagseguro.vivo.com.br</td>\n",
       "      <td>nan</td>\n",
       "      <td>nan</td>\n",
       "      <td>nan</td>\n",
       "      <td>nan</td>\n",
       "      <td>nan</td>\n",
       "      <td>nan</td>\n",
       "      <td>nan</td>\n",
       "      <td>nan</td>\n",
       "    </tr>\n",
       "    <tr>\n",
       "      <th>68</th>\n",
       "      <td>89551080337004478033</td>\n",
       "      <td>724108002443095</td>\n",
       "      <td>5511956197674</td>\n",
       "      <td>ACTIVATED</td>\n",
       "      <td>pagseguro.m2m.vivo.com.br</td>\n",
       "      <td>10.171.37.66</td>\n",
       "      <td>2021-06-08 11:08:39</td>\n",
       "      <td>2021-06-07 21:00:53</td>\n",
       "      <td>-50,866.00</td>\n",
       "      <td>apn.pagseguro.uol</td>\n",
       "      <td>pagseguro.vivo.com.br</td>\n",
       "      <td>nan</td>\n",
       "      <td>nan</td>\n",
       "      <td>nan</td>\n",
       "      <td>nan</td>\n",
       "      <td>nan</td>\n",
       "      <td>nan</td>\n",
       "      <td>nan</td>\n",
       "      <td>nan</td>\n",
       "    </tr>\n",
       "    <tr>\n",
       "      <th>85</th>\n",
       "      <td>89551080337004541616</td>\n",
       "      <td>724108002449453</td>\n",
       "      <td>5511941595007</td>\n",
       "      <td>ACTIVATED</td>\n",
       "      <td>pagseguro.m2m.vivo.com.br</td>\n",
       "      <td>10.171.70.106</td>\n",
       "      <td>2021-06-08 05:56:52</td>\n",
       "      <td>2021-06-08 05:56:48</td>\n",
       "      <td>-4.00</td>\n",
       "      <td>apn.pagseguro.uol</td>\n",
       "      <td>pagseguro.vivo.com.br</td>\n",
       "      <td>nan</td>\n",
       "      <td>nan</td>\n",
       "      <td>nan</td>\n",
       "      <td>nan</td>\n",
       "      <td>nan</td>\n",
       "      <td>nan</td>\n",
       "      <td>nan</td>\n",
       "      <td>nan</td>\n",
       "    </tr>\n",
       "  </tbody>\n",
       "</table>\n",
       "</div>"
      ],
      "text/plain": [
       "                     icc             imsi         msisdn lifeCycleStatus  \\\n",
       "20  89551080337004409400  724108002436232  5511973875339       SUSPENDED   \n",
       "51  89551080337004479916  724108002443283  5511975396145       ACTIVATED   \n",
       "60  89551080337004406893  724108002435981  5511942393174       ACTIVATED   \n",
       "68  89551080337004478033  724108002443095  5511956197674       ACTIVATED   \n",
       "85  89551080337004541616  724108002449453  5511941595007       ACTIVATED   \n",
       "\n",
       "                   currentApn       currentIp           connStart  \\\n",
       "20  pagseguro.m2m.vivo.com.br  10.169.181.203 2020-06-03 04:16:38   \n",
       "51  pagseguro.m2m.vivo.com.br   10.170.177.67 2021-06-07 01:27:00   \n",
       "60  pagseguro.m2m.vivo.com.br  10.168.193.162 2021-06-04 15:30:51   \n",
       "68  pagseguro.m2m.vivo.com.br    10.171.37.66 2021-06-08 11:08:39   \n",
       "85  pagseguro.m2m.vivo.com.br   10.171.70.106 2021-06-08 05:56:52   \n",
       "\n",
       "              connStop  session_time_seconds           apn_apn1  \\\n",
       "20 2020-06-01 22:51:45           -105,893.00  apn.pagseguro.uol   \n",
       "51 2021-06-07 01:26:37                -23.00  apn.pagseguro.uol   \n",
       "60 2021-06-04 15:29:53                -58.00  apn.pagseguro.uol   \n",
       "68 2021-06-07 21:00:53            -50,866.00  apn.pagseguro.uol   \n",
       "85 2021-06-08 05:56:48                 -4.00  apn.pagseguro.uol   \n",
       "\n",
       "                 apn_apn2 apn_apn3 apn_apn4 apn_apn5 apn_apn6 apn_apn7  \\\n",
       "20  pagseguro.vivo.com.br      nan      nan      nan      nan      nan   \n",
       "51  pagseguro.vivo.com.br      nan      nan      nan      nan      nan   \n",
       "60  pagseguro.vivo.com.br      nan      nan      nan      nan      nan   \n",
       "68  pagseguro.vivo.com.br      nan      nan      nan      nan      nan   \n",
       "85  pagseguro.vivo.com.br      nan      nan      nan      nan      nan   \n",
       "\n",
       "   apn_apn8 apn_apn9 apn_apn10  \n",
       "20      nan      nan       nan  \n",
       "51      nan      nan       nan  \n",
       "60      nan      nan       nan  \n",
       "68      nan      nan       nan  \n",
       "85      nan      nan       nan  "
      ]
     },
     "execution_count": 37,
     "metadata": {},
     "output_type": "execute_result"
    }
   ],
   "source": [
    "df_no_apn.head()"
   ]
  },
  {
   "cell_type": "markdown",
   "metadata": {},
   "source": [
    "### SIMs with at least one APN"
   ]
  },
  {
   "cell_type": "markdown",
   "metadata": {},
   "source": [
    "https://stackoverflow.com/questions/44706485/how-to-remove-rows-in-a-pandas-dataframe-if-the-same-row-exists-in-another-dataf"
   ]
  },
  {
   "cell_type": "code",
   "execution_count": 25,
   "metadata": {},
   "outputs": [
    {
     "name": "stdout",
     "output_type": "stream",
     "text": [
      "CPU times: user 13.9 s, sys: 972 ms, total: 14.9 s\n",
      "Wall time: 13.4 s\n"
     ]
    },
    {
     "data": {
      "text/plain": [
       "(1859818, 19)"
      ]
     },
     "execution_count": 25,
     "metadata": {},
     "output_type": "execute_result"
    }
   ],
   "source": [
    "%%time\n",
    "df_apn = pd.merge(df, df_no_apn, indicator=True, how='outer').query('_merge==\"left_only\"').drop('_merge', axis=1)\n",
    "df_apn.shape"
   ]
  },
  {
   "cell_type": "code",
   "execution_count": 26,
   "metadata": {},
   "outputs": [
    {
     "data": {
      "text/plain": [
       "True"
      ]
     },
     "execution_count": 26,
     "metadata": {},
     "output_type": "execute_result"
    }
   ],
   "source": [
    "# validation\n",
    "df_apn.shape[0] == df.shape[0] - df_no_apn.shape[0]"
   ]
  },
  {
   "cell_type": "markdown",
   "metadata": {},
   "source": [
    "### Public APN\n",
    "\n",
    "SIMs connected in APN smart.m2m.vivo.com.br without it is be configured in Kite"
   ]
  },
  {
   "cell_type": "code",
   "execution_count": 53,
   "metadata": {},
   "outputs": [
    {
     "data": {
      "text/plain": [
       "(1204, 19)"
      ]
     },
     "execution_count": 53,
     "metadata": {},
     "output_type": "execute_result"
    }
   ],
   "source": [
    "df_public = df[\n",
    "    (df['currentApn'] == 'smart.m2m.vivo.com.br') &\n",
    "    (df['apn_apn1'] != 'smart.m2m.vivo.com.br') &\n",
    "    (df['apn_apn2'] != 'smart.m2m.vivo.com.br') &\n",
    "    (df['apn_apn3'] != 'smart.m2m.vivo.com.br') &\n",
    "    (df['apn_apn4'] != 'smart.m2m.vivo.com.br') &\n",
    "    (df['apn_apn5'] != 'smart.m2m.vivo.com.br') &\n",
    "    (df['apn_apn6'] != 'smart.m2m.vivo.com.br') &\n",
    "    (df['apn_apn7'] != 'smart.m2m.vivo.com.br') &\n",
    "    (df['apn_apn8'] != 'smart.m2m.vivo.com.br') &\n",
    "    (df['apn_apn9'] != 'smart.m2m.vivo.com.br') &\n",
    "    (df['apn_apn10'] != 'smart.m2m.vivo.com.br')\n",
    "]\n",
    "df_public.shape"
   ]
  },
  {
   "cell_type": "code",
   "execution_count": 54,
   "metadata": {},
   "outputs": [
    {
     "data": {
      "text/html": [
       "<div>\n",
       "<style scoped>\n",
       "    .dataframe tbody tr th:only-of-type {\n",
       "        vertical-align: middle;\n",
       "    }\n",
       "\n",
       "    .dataframe tbody tr th {\n",
       "        vertical-align: top;\n",
       "    }\n",
       "\n",
       "    .dataframe thead th {\n",
       "        text-align: right;\n",
       "    }\n",
       "</style>\n",
       "<table border=\"1\" class=\"dataframe\">\n",
       "  <thead>\n",
       "    <tr style=\"text-align: right;\">\n",
       "      <th></th>\n",
       "      <th>icc</th>\n",
       "      <th>imsi</th>\n",
       "      <th>msisdn</th>\n",
       "      <th>lifeCycleStatus</th>\n",
       "      <th>currentApn</th>\n",
       "      <th>currentIp</th>\n",
       "      <th>connStart</th>\n",
       "      <th>connStop</th>\n",
       "      <th>session_time_seconds</th>\n",
       "      <th>apn_apn1</th>\n",
       "      <th>apn_apn2</th>\n",
       "      <th>apn_apn3</th>\n",
       "      <th>apn_apn4</th>\n",
       "      <th>apn_apn5</th>\n",
       "      <th>apn_apn6</th>\n",
       "      <th>apn_apn7</th>\n",
       "      <th>apn_apn8</th>\n",
       "      <th>apn_apn9</th>\n",
       "      <th>apn_apn10</th>\n",
       "    </tr>\n",
       "  </thead>\n",
       "  <tbody>\n",
       "    <tr>\n",
       "      <th>5554</th>\n",
       "      <td>89551080137015075830</td>\n",
       "      <td>724108002974037</td>\n",
       "      <td>5511973056396</td>\n",
       "      <td>SUSPENDED</td>\n",
       "      <td>smart.m2m.vivo.com.br</td>\n",
       "      <td>10.193.253.254</td>\n",
       "      <td>2020-04-16 23:46:52</td>\n",
       "      <td>2020-04-16 23:43:37</td>\n",
       "      <td>-195.00</td>\n",
       "      <td>pagseguro.vivo.com.br</td>\n",
       "      <td>apn.pagseguro.uol</td>\n",
       "      <td>apnsmart.pagseguro.uol</td>\n",
       "      <td>nan</td>\n",
       "      <td>nan</td>\n",
       "      <td>nan</td>\n",
       "      <td>nan</td>\n",
       "      <td>nan</td>\n",
       "      <td>nan</td>\n",
       "      <td>nan</td>\n",
       "    </tr>\n",
       "    <tr>\n",
       "      <th>8595</th>\n",
       "      <td>89551080137015451296</td>\n",
       "      <td>724108003011583</td>\n",
       "      <td>5511955897197</td>\n",
       "      <td>ACTIVATED</td>\n",
       "      <td>smart.m2m.vivo.com.br</td>\n",
       "      <td>10.192.194.170</td>\n",
       "      <td>2020-03-14 13:48:56</td>\n",
       "      <td>2020-03-02 14:06:48</td>\n",
       "      <td>-1,035,728.00</td>\n",
       "      <td>pagseguro.vivo.com.br</td>\n",
       "      <td>apn.pagseguro.uol</td>\n",
       "      <td>apnsmart.pagseguro.uol</td>\n",
       "      <td>nan</td>\n",
       "      <td>nan</td>\n",
       "      <td>nan</td>\n",
       "      <td>nan</td>\n",
       "      <td>nan</td>\n",
       "      <td>nan</td>\n",
       "      <td>nan</td>\n",
       "    </tr>\n",
       "    <tr>\n",
       "      <th>9144</th>\n",
       "      <td>89551080137015470262</td>\n",
       "      <td>724108003013480</td>\n",
       "      <td>5511955852331</td>\n",
       "      <td>SUSPENDED</td>\n",
       "      <td>smart.m2m.vivo.com.br</td>\n",
       "      <td>10.100.228.75</td>\n",
       "      <td>2020-05-02 16:40:19</td>\n",
       "      <td>2020-05-02 16:40:14</td>\n",
       "      <td>-5.00</td>\n",
       "      <td>pagseguro.vivo.com.br</td>\n",
       "      <td>apn.pagseguro.uol</td>\n",
       "      <td>apnsmart.pagseguro.uol</td>\n",
       "      <td>nan</td>\n",
       "      <td>nan</td>\n",
       "      <td>nan</td>\n",
       "      <td>nan</td>\n",
       "      <td>nan</td>\n",
       "      <td>nan</td>\n",
       "      <td>nan</td>\n",
       "    </tr>\n",
       "    <tr>\n",
       "      <th>9223</th>\n",
       "      <td>89551080137015416372</td>\n",
       "      <td>724108003008091</td>\n",
       "      <td>5511955965159</td>\n",
       "      <td>SUSPENDED</td>\n",
       "      <td>smart.m2m.vivo.com.br</td>\n",
       "      <td>10.194.68.33</td>\n",
       "      <td>2020-03-15 21:34:22</td>\n",
       "      <td>2020-03-15 21:32:41</td>\n",
       "      <td>-101.00</td>\n",
       "      <td>pagseguro.vivo.com.br</td>\n",
       "      <td>apn.pagseguro.uol</td>\n",
       "      <td>nan</td>\n",
       "      <td>nan</td>\n",
       "      <td>nan</td>\n",
       "      <td>nan</td>\n",
       "      <td>nan</td>\n",
       "      <td>nan</td>\n",
       "      <td>nan</td>\n",
       "      <td>nan</td>\n",
       "    </tr>\n",
       "    <tr>\n",
       "      <th>9476</th>\n",
       "      <td>89551080137015406522</td>\n",
       "      <td>724108003007106</td>\n",
       "      <td>5511955927720</td>\n",
       "      <td>SUSPENDED</td>\n",
       "      <td>smart.m2m.vivo.com.br</td>\n",
       "      <td>172.18.162.29</td>\n",
       "      <td>2020-03-15 20:07:36</td>\n",
       "      <td>2020-03-15 08:36:28</td>\n",
       "      <td>-41,468.00</td>\n",
       "      <td>pagseguro.vivo.com.br</td>\n",
       "      <td>apn.pagseguro.uol</td>\n",
       "      <td>apnsmart.pagseguro.uol</td>\n",
       "      <td>nan</td>\n",
       "      <td>nan</td>\n",
       "      <td>nan</td>\n",
       "      <td>nan</td>\n",
       "      <td>nan</td>\n",
       "      <td>nan</td>\n",
       "      <td>nan</td>\n",
       "    </tr>\n",
       "  </tbody>\n",
       "</table>\n",
       "</div>"
      ],
      "text/plain": [
       "                       icc             imsi         msisdn lifeCycleStatus  \\\n",
       "5554  89551080137015075830  724108002974037  5511973056396       SUSPENDED   \n",
       "8595  89551080137015451296  724108003011583  5511955897197       ACTIVATED   \n",
       "9144  89551080137015470262  724108003013480  5511955852331       SUSPENDED   \n",
       "9223  89551080137015416372  724108003008091  5511955965159       SUSPENDED   \n",
       "9476  89551080137015406522  724108003007106  5511955927720       SUSPENDED   \n",
       "\n",
       "                 currentApn       currentIp           connStart  \\\n",
       "5554  smart.m2m.vivo.com.br  10.193.253.254 2020-04-16 23:46:52   \n",
       "8595  smart.m2m.vivo.com.br  10.192.194.170 2020-03-14 13:48:56   \n",
       "9144  smart.m2m.vivo.com.br   10.100.228.75 2020-05-02 16:40:19   \n",
       "9223  smart.m2m.vivo.com.br    10.194.68.33 2020-03-15 21:34:22   \n",
       "9476  smart.m2m.vivo.com.br   172.18.162.29 2020-03-15 20:07:36   \n",
       "\n",
       "                connStop  session_time_seconds               apn_apn1  \\\n",
       "5554 2020-04-16 23:43:37               -195.00  pagseguro.vivo.com.br   \n",
       "8595 2020-03-02 14:06:48         -1,035,728.00  pagseguro.vivo.com.br   \n",
       "9144 2020-05-02 16:40:14                 -5.00  pagseguro.vivo.com.br   \n",
       "9223 2020-03-15 21:32:41               -101.00  pagseguro.vivo.com.br   \n",
       "9476 2020-03-15 08:36:28            -41,468.00  pagseguro.vivo.com.br   \n",
       "\n",
       "               apn_apn2                apn_apn3 apn_apn4 apn_apn5 apn_apn6  \\\n",
       "5554  apn.pagseguro.uol  apnsmart.pagseguro.uol      nan      nan      nan   \n",
       "8595  apn.pagseguro.uol  apnsmart.pagseguro.uol      nan      nan      nan   \n",
       "9144  apn.pagseguro.uol  apnsmart.pagseguro.uol      nan      nan      nan   \n",
       "9223  apn.pagseguro.uol                     nan      nan      nan      nan   \n",
       "9476  apn.pagseguro.uol  apnsmart.pagseguro.uol      nan      nan      nan   \n",
       "\n",
       "     apn_apn7 apn_apn8 apn_apn9 apn_apn10  \n",
       "5554      nan      nan      nan       nan  \n",
       "8595      nan      nan      nan       nan  \n",
       "9144      nan      nan      nan       nan  \n",
       "9223      nan      nan      nan       nan  \n",
       "9476      nan      nan      nan       nan  "
      ]
     },
     "execution_count": 54,
     "metadata": {},
     "output_type": "execute_result"
    }
   ],
   "source": [
    "df_public.head()"
   ]
  },
  {
   "cell_type": "markdown",
   "metadata": {},
   "source": [
    "## Output"
   ]
  },
  {
   "cell_type": "markdown",
   "metadata": {},
   "source": [
    "### Output file"
   ]
  },
  {
   "cell_type": "code",
   "execution_count": 27,
   "metadata": {},
   "outputs": [],
   "source": [
    "def getCurrentDate():\n",
    "    local_dt = datetime.now()\n",
    "    return str(local_dt.year) +'.'+ str(local_dt.month) + '.' + str(local_dt.day) + '_' + str(local_dt.hour) + 'h' + str(local_dt.minute)"
   ]
  },
  {
   "cell_type": "code",
   "execution_count": 28,
   "metadata": {},
   "outputs": [
    {
     "name": "stdout",
     "output_type": "stream",
     "text": [
      "mkdir: cannot create directory ‘data/result’: File exists\r\n"
     ]
    }
   ],
   "source": [
    "!mkdir data/result"
   ]
  },
  {
   "cell_type": "code",
   "execution_count": 29,
   "metadata": {},
   "outputs": [],
   "source": [
    "df_no_apn.to_csv('data/result/pagseguro_no_apn_' + getCurrentDate() + '.csv')"
   ]
  },
  {
   "cell_type": "code",
   "execution_count": 30,
   "metadata": {},
   "outputs": [],
   "source": [
    "df_apn.to_csv('data/result/pagseguro_with_apn_' + getCurrentDate() + '.csv')"
   ]
  },
  {
   "cell_type": "code",
   "execution_count": 31,
   "metadata": {},
   "outputs": [],
   "source": [
    "df_notActivated_connected.to_csv('data/result/pagseguro_notActivated_connected_' + getCurrentDate() + '.csv')"
   ]
  },
  {
   "cell_type": "code",
   "execution_count": 55,
   "metadata": {},
   "outputs": [],
   "source": [
    "df_public.to_csv('data/result/pagseguro_publicAPN_' + getCurrentDate() + '.csv')"
   ]
  },
  {
   "cell_type": "code",
   "execution_count": 32,
   "metadata": {},
   "outputs": [],
   "source": [
    "df.to_csv('data/result/pagseguro_all_' + getCurrentDate() + '.csv')"
   ]
  },
  {
   "cell_type": "code",
   "execution_count": 56,
   "metadata": {},
   "outputs": [
    {
     "name": "stdout",
     "output_type": "stream",
     "text": [
      "-rw-rw-r-- 1 rodrigo rodrigo 287K jun 10 15:03 data/result/pagseguro_publicAPN_2021.6.10_15h3.csv\r\n",
      "-rw-rw-r-- 1 rodrigo rodrigo 402M jun 10 14:46 data/result/pagseguro_all_2021.6.10_14h46.csv\r\n",
      "-rw-rw-r-- 1 rodrigo rodrigo 564K jun 10 14:46 data/result/pagseguro_notActivated_connected_2021.6.10_14h46.csv\r\n",
      "-rw-rw-r-- 1 rodrigo rodrigo 396M jun 10 14:46 data/result/pagseguro_with_apn_2021.6.10_14h45.csv\r\n",
      "-rw-rw-r-- 1 rodrigo rodrigo 6,9M jun 10 14:45 data/result/pagseguro_no_apn_2021.6.10_14h45.csv\r\n"
     ]
    }
   ],
   "source": [
    "!ls data/result/*.csv -lht"
   ]
  },
  {
   "cell_type": "code",
   "execution_count": null,
   "metadata": {},
   "outputs": [],
   "source": []
  }
 ],
 "metadata": {
  "kernelspec": {
   "display_name": "Python 3",
   "language": "python",
   "name": "python3"
  },
  "language_info": {
   "codemirror_mode": {
    "name": "ipython",
    "version": 3
   },
   "file_extension": ".py",
   "mimetype": "text/x-python",
   "name": "python",
   "nbconvert_exporter": "python",
   "pygments_lexer": "ipython3",
   "version": "3.7.4"
  }
 },
 "nbformat": 4,
 "nbformat_minor": 2
}
